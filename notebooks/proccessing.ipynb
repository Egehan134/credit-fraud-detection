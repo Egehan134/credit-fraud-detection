{
 "cells": [
  {
   "cell_type": "code",
   "execution_count": 4,
   "id": "2fa1af29",
   "metadata": {},
   "outputs": [],
   "source": [
    "import pandas as pd\n",
    "import numpy as np\n",
    "import matplotlib.pyplot as plt\n",
    "import seaborn as sns\n",
    "\n",
    "from sklearn.model_selection import train_test_split\n",
    "from sklearn.preprocessing import StandardScaler\n",
    "from sklearn.ensemble import RandomForestClassifier\n",
    "from sklearn.metrics import classification_report, confusion_matrix"
   ]
  },
  {
   "cell_type": "code",
   "execution_count": 6,
   "id": "dd1b8f57",
   "metadata": {},
   "outputs": [],
   "source": [
    "df = pd.read_csv('../data/creditcard.csv')"
   ]
  },
  {
   "cell_type": "code",
   "execution_count": 8,
   "id": "25ad141d",
   "metadata": {},
   "outputs": [],
   "source": [
    "# Properties (X) and target variable (y)\n",
    "x = df.drop('Class' , axis=1) # axis=1 means deleting column. axis=0 means deleting line.\n",
    "y = df['Class']"
   ]
  }
 ],
 "metadata": {
  "kernelspec": {
   "display_name": "cdfEnv",
   "language": "python",
   "name": "python3"
  },
  "language_info": {
   "codemirror_mode": {
    "name": "ipython",
    "version": 3
   },
   "file_extension": ".py",
   "mimetype": "text/x-python",
   "name": "python",
   "nbconvert_exporter": "python",
   "pygments_lexer": "ipython3",
   "version": "3.13.3"
  }
 },
 "nbformat": 4,
 "nbformat_minor": 5
}
